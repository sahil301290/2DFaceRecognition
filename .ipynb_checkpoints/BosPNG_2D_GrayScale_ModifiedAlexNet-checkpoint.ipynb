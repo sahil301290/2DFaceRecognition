{
 "cells": [
  {
   "cell_type": "markdown",
   "metadata": {
    "colab_type": "text",
    "id": "view-in-github"
   },
   "source": [
    "<a href=\"https://colab.research.google.com/github/sahil301290/2DFaceRecognition/blob/main/BosPNG_2D_GrayScale_ModifiedAlexNet.ipynb\" target=\"_parent\"><img src=\"https://colab.research.google.com/assets/colab-badge.svg\" alt=\"Open In Colab\"/></a>"
   ]
  },
  {
   "cell_type": "markdown",
   "metadata": {
    "id": "nkO27eM_DgM_"
   },
   "source": [
    "##Mounting Google Drive"
   ]
  },
  {
   "cell_type": "code",
   "execution_count": 1,
   "metadata": {
    "colab": {
     "base_uri": "https://localhost:8080/"
    },
    "id": "POg-5GoMDUew",
    "outputId": "b7523b57-484e-4a90-ea38-5a77a62e3006"
   },
   "outputs": [
    {
     "name": "stdout",
     "output_type": "stream",
     "text": [
      "Mounted at /content/drive\n"
     ]
    }
   ],
   "source": [
    "from google.colab import drive\n",
    "drive.mount('/content/drive')"
   ]
  },
  {
   "cell_type": "markdown",
   "metadata": {
    "id": "rPdPBtOfyQzh"
   },
   "source": [
    "##Unzipping the dataset"
   ]
  },
  {
   "cell_type": "code",
   "execution_count": 2,
   "metadata": {
    "id": "CvPLWvhTyBIv"
   },
   "outputs": [],
   "source": [
    "!unzip '/content/drive/MyDrive/Datasets/3DFaceDatasets/Bosphorus.zip' &> /dev/null"
   ]
  },
  {
   "cell_type": "markdown",
   "metadata": {
    "id": "1hFFpc8vDdRT"
   },
   "source": [
    "##Import Libraries"
   ]
  },
  {
   "cell_type": "code",
   "execution_count": 3,
   "metadata": {
    "id": "4GRb0IK61olv"
   },
   "outputs": [],
   "source": [
    "import os\n",
    "import random\n",
    "import numpy as np\n",
    "import pandas as pd \n",
    "from skimage import io\n",
    "from skimage import color\n",
    "from PIL import Image\n",
    "from IPython.display import display\n",
    "import matplotlib.pyplot as plt\n",
    "import seaborn as sns\n",
    "from dask.array.image import imread\n",
    "#from dask import bag, threaded\n",
    "from dask.diagnostics import ProgressBar\n",
    "import cv2\n",
    "from sklearn.model_selection import train_test_split\n",
    "import warnings\n",
    "warnings.filterwarnings(\"ignore\")\n",
    "import math\n",
    "\n",
    "import tensorflow as tf\n",
    "from tensorflow.keras.callbacks import EarlyStopping, TensorBoard, ModelCheckpoint, LearningRateScheduler\n",
    "import keras\n",
    "from keras.models import Sequential\n",
    "from keras.layers import Dense, Dropout, Flatten\n",
    "from keras.layers import Conv2D, MaxPooling2D\n",
    "from tensorflow.keras.utils import to_categorical\n",
    "from keras.preprocessing import image \n",
    "from tensorflow.keras.layers import BatchNormalization\n",
    "from keras import optimizers\n",
    "from tensorflow.keras.optimizers import Adam as Adam"
   ]
  },
  {
   "cell_type": "markdown",
   "metadata": {
    "id": "0__nxk7jDmnM"
   },
   "source": [
    "#Converting PNG image to size of 227 x 227 x 3"
   ]
  },
  {
   "cell_type": "code",
   "execution_count": 4,
   "metadata": {
    "colab": {
     "base_uri": "https://localhost:8080/"
    },
    "id": "NaUOwr4DyUpI",
    "outputId": "317ffebb-4b36-44ef-dc41-07c7ef7fecc0"
   },
   "outputs": [
    {
     "name": "stdout",
     "output_type": "stream",
     "text": [
      "Conversion Completed!\n"
     ]
    }
   ],
   "source": [
    "train_image = []\n",
    "image_label = []\n",
    "\n",
    "def readImg(idxs):\n",
    "    global train_image\n",
    "    global image_label\n",
    "    \n",
    "    for idx in idxs:\n",
    "        #print('now we are in the folder: bs'+str(format(i, '03d')))\n",
    "        labels = imread(\"../datasets/Bosphorus/bs\"+str(format(idx, '03d'))+\"/*.png\")\n",
    "        for j in range(len(labels)):\n",
    "            img = color.rgb2gray(labels[j])[50:,120:-50]\n",
    "            img = cv2.resize(img,(112,112))\n",
    "            train_image.append([img,idx])\n",
    "            image_label.append(idx)\n",
    "            \n",
    "    print(f'Conversion Completed for {idxs}!')\n",
    "\n",
    "import threading\n",
    "num_threads = 9\n",
    "number_folders = 105\n",
    "\n",
    "idx_range_per_thread = number_folders//num_threads\n",
    "rem = 105%num_threads\n",
    "\n",
    "threads = []\n",
    "# for the regular task sizes\n",
    "for thread_num in range(num_threads):\n",
    "    curr = thread_num*idx_range_per_thread\n",
    "    \n",
    "    if thread_num == num_threads-1:\n",
    "        idxs_to_run = [*range(curr, number_folders)]\n",
    "    else:\n",
    "        idxs_to_run = [*range(curr, curr + idx_range_per_thread)]\n",
    "    \n",
    "    threads.append(\n",
    "        threading.Thread(\n",
    "            target=readImg, \n",
    "            args=(idxs_to_run,)))\n",
    "\n",
    "import time\n",
    "tic = time.time()\n",
    "\n",
    "[thread.start() for thread in threads]\n",
    "[thread.join() for thread in threads]\n",
    "\n",
    "print(time.time()-tic)\n",
    "print(f'Conversion Completed!')"
   ]
  },
  {
   "cell_type": "markdown",
   "metadata": {
    "id": "ejmdl8ixQyEj"
   },
   "source": [
    "###Checking number of train images"
   ]
  },
  {
   "cell_type": "code",
   "execution_count": 5,
   "metadata": {
    "colab": {
     "base_uri": "https://localhost:8080/"
    },
    "id": "uo1rwNFa5jts",
    "outputId": "b1f3be07-5a0a-4460-f5ef-c8e31b0ad708"
   },
   "outputs": [
    {
     "data": {
      "text/plain": [
       "4666"
      ]
     },
     "execution_count": 5,
     "metadata": {},
     "output_type": "execute_result"
    }
   ],
   "source": [
    "len(train_image)"
   ]
  },
  {
   "cell_type": "markdown",
   "metadata": {
    "id": "8vRUfiZoQ3H2"
   },
   "source": [
    "## Randomly shuffling the images"
   ]
  },
  {
   "cell_type": "code",
   "execution_count": 6,
   "metadata": {
    "id": "4HMcGZDnBZpD"
   },
   "outputs": [],
   "source": [
    "import random\n",
    "random.shuffle(train_image)"
   ]
  },
  {
   "cell_type": "markdown",
   "metadata": {
    "id": "RkITvvvWQ54f"
   },
   "source": [
    "## Splitting the image and label to two different lists"
   ]
  },
  {
   "cell_type": "code",
   "execution_count": 7,
   "metadata": {
    "colab": {
     "base_uri": "https://localhost:8080/"
    },
    "id": "3tsBCxFlBs5v",
    "outputId": "a71aad24-60c2-4cef-97cf-1e0718872bec"
   },
   "outputs": [
    {
     "name": "stdout",
     "output_type": "stream",
     "text": [
      "4666 4666\n"
     ]
    }
   ],
   "source": [
    "X = []\n",
    "Y = []\n",
    "for features,labels in train_image:\n",
    "    X.append(features)\n",
    "    Y.append(labels)\n",
    "\n",
    "print (len(X), len(Y))"
   ]
  },
  {
   "cell_type": "code",
   "execution_count": 8,
   "metadata": {
    "colab": {
     "base_uri": "https://localhost:8080/",
     "height": 287
    },
    "id": "uSVOOiU0BvGz",
    "outputId": "a2a4407b-dc57-41e9-a761-78c016c503a4"
   },
   "outputs": [
    {
     "data": {
      "image/png": "[encoded data removed]",
      "text/plain": [
       "<Figure size 432x288 with 1 Axes>"
      ]
     },
     "metadata": {
      "needs_background": "light"
     },
     "output_type": "display_data"
    },
    {
     "name": "stdout",
     "output_type": "stream",
     "text": [
      "62\n"
     ]
    }
   ],
   "source": [
    "plt.imshow(X[104],cmap= 'gray')\n",
    "plt.show()\n",
    "print(Y[104])"
   ]
  },
  {
   "cell_type": "markdown",
   "metadata": {
    "id": "J70QGfAhQ8lM"
   },
   "source": [
    "## Converting images to nparray. Encoding the Y"
   ]
  },
  {
   "cell_type": "code",
   "execution_count": 9,
   "metadata": {
    "colab": {
     "base_uri": "https://localhost:8080/"
    },
    "id": "7rUqD0goBxjW",
    "outputId": "b26874cc-a2f6-459f-9ebe-10bf9f063608"
   },
   "outputs": [
    {
     "name": "stdout",
     "output_type": "stream",
     "text": [
      "(4666, 227, 227, 1)\n"
     ]
    }
   ],
   "source": [
    "X = np.array(X).reshape(-1,227,227,1)\n",
    "Y = to_categorical(Y)\n",
    "print (X.shape)"
   ]
  },
  {
   "cell_type": "code",
   "execution_count": 10,
   "metadata": {
    "colab": {
     "base_uri": "https://localhost:8080/"
    },
    "id": "6e7lNGAtB172",
    "outputId": "f6a3a3de-7cd4-4d75-e162-f3ab81f85d4c"
   },
   "outputs": [
    {
     "name": "stdout",
     "output_type": "stream",
     "text": [
      "[0. 0. 0. 0. 0. 0. 0. 0. 0. 0. 0. 0. 0. 0. 0. 0. 0. 0. 0. 0. 0. 0. 0. 0.\n",
      " 0. 0. 0. 0. 0. 0. 0. 0. 0. 0. 0. 0. 0. 0. 0. 0. 0. 0. 0. 0. 0. 0. 0. 0.\n",
      " 0. 0. 0. 0. 0. 0. 0. 0. 0. 0. 0. 0. 0. 0. 1. 0. 0. 0. 0. 0. 0. 0. 0. 0.\n",
      " 0. 0. 0. 0. 0. 0. 0. 0. 0. 0. 0. 0. 0. 0. 0. 0. 0. 0. 0. 0. 0. 0. 0. 0.\n",
      " 0. 0. 0. 0. 0. 0. 0. 0. 0.]\n"
     ]
    }
   ],
   "source": [
    "print(Y[104])"
   ]
  },
  {
   "cell_type": "markdown",
   "metadata": {
    "id": "D2HB7_5cRAXu"
   },
   "source": [
    "##Splitting Train and Test"
   ]
  },
  {
   "cell_type": "code",
   "execution_count": 11,
   "metadata": {
    "id": "31-awPrHCNDZ"
   },
   "outputs": [],
   "source": [
    "X_train, X_test, y_train, y_test = train_test_split(X, Y, random_state=42, test_size=0.2)"
   ]
  },
  {
   "cell_type": "code",
   "execution_count": 12,
   "metadata": {
    "colab": {
     "base_uri": "https://localhost:8080/"
    },
    "id": "7M7TFK1pCPwj",
    "outputId": "256dde6b-ba13-43bb-bbd8-080a517b723e"
   },
   "outputs": [
    {
     "name": "stdout",
     "output_type": "stream",
     "text": [
      "(3732, 227, 227, 1) (934, 227, 227, 1) (3732, 105) (934, 105)\n"
     ]
    }
   ],
   "source": [
    "print(X_train.shape,X_test.shape,y_train.shape,y_test.shape)"
   ]
  },
  {
   "cell_type": "markdown",
   "metadata": {
    "id": "HWCaTBY5Q_Zz"
   },
   "source": [
    "## Designing the Layers"
   ]
  },
  {
   "cell_type": "code",
   "execution_count": 13,
   "metadata": {
    "colab": {
     "base_uri": "https://localhost:8080/"
    },
    "id": "rfRp72DFCdp7",
    "outputId": "e2dff362-7079-4a50-88d1-fd0d60044cbd"
   },
   "outputs": [
    {
     "name": "stdout",
     "output_type": "stream",
     "text": [
      "Model: \"sequential\"\n",
      "_________________________________________________________________\n",
      " Layer (type)                Output Shape              Param #   \n",
      "=================================================================\n",
      " conv2d (Conv2D)             (None, 55, 55, 96)        11712     \n",
      "                                                                 \n",
      " batch_normalization (BatchN  (None, 55, 55, 96)       384       \n",
      " ormalization)                                                   \n",
      "                                                                 \n",
      " max_pooling2d (MaxPooling2D  (None, 27, 27, 96)       0         \n",
      " )                                                               \n",
      "                                                                 \n",
      " conv2d_1 (Conv2D)           (None, 27, 27, 256)       614656    \n",
      "                                                                 \n",
      " batch_normalization_1 (Batc  (None, 27, 27, 256)      1024      \n",
      " hNormalization)                                                 \n",
      "                                                                 \n",
      " max_pooling2d_1 (MaxPooling  (None, 13, 13, 256)      0         \n",
      " 2D)                                                             \n",
      "                                                                 \n",
      " conv2d_2 (Conv2D)           (None, 13, 13, 384)       885120    \n",
      "                                                                 \n",
      " batch_normalization_2 (Batc  (None, 13, 13, 384)      1536      \n",
      " hNormalization)                                                 \n",
      "                                                                 \n",
      " conv2d_3 (Conv2D)           (None, 13, 13, 384)       1327488   \n",
      "                                                                 \n",
      " batch_normalization_3 (Batc  (None, 13, 13, 384)      1536      \n",
      " hNormalization)                                                 \n",
      "                                                                 \n",
      " conv2d_4 (Conv2D)           (None, 13, 13, 256)       884992    \n",
      "                                                                 \n",
      " batch_normalization_4 (Batc  (None, 13, 13, 256)      1024      \n",
      " hNormalization)                                                 \n",
      "                                                                 \n",
      " max_pooling2d_2 (MaxPooling  (None, 6, 6, 256)        0         \n",
      " 2D)                                                             \n",
      "                                                                 \n",
      " flatten (Flatten)           (None, 9216)              0         \n",
      "                                                                 \n",
      " dense (Dense)               (None, 4096)              37752832  \n",
      "                                                                 \n",
      " dropout (Dropout)           (None, 4096)              0         \n",
      "                                                                 \n",
      " dense_1 (Dense)             (None, 4096)              16781312  \n",
      "                                                                 \n",
      " dropout_1 (Dropout)         (None, 4096)              0         \n",
      "                                                                 \n",
      " dense_2 (Dense)             (None, 105)               430185    \n",
      "                                                                 \n",
      "=================================================================\n",
      "Total params: 58,693,801\n",
      "Trainable params: 58,691,049\n",
      "Non-trainable params: 2,752\n",
      "_________________________________________________________________\n"
     ]
    }
   ],
   "source": [
    "model = tf.keras.models.Sequential([\n",
    "  tf.keras.layers.Conv2D(96,(11,11),activation = 'relu',strides = 4,input_shape=(227,227,1)),\n",
    "  tf.keras.layers.BatchNormalization(),\n",
    "  tf.keras.layers.MaxPooling2D((3,3),strides = 2),\n",
    "\n",
    "  tf.keras.layers.Conv2D(256,(5,5),activation = 'relu',padding = 'same'),\n",
    "  tf.keras.layers.BatchNormalization(),\n",
    "  tf.keras.layers.MaxPooling2D((3,3),strides = 2),\n",
    "\n",
    "  tf.keras.layers.Conv2D(384,(3,3),activation = 'relu',padding = 'same'),\n",
    "  tf.keras.layers.BatchNormalization(),\n",
    "  tf.keras.layers.Conv2D(384,(3,3),activation = 'relu',padding = 'same'),\n",
    "  tf.keras.layers.BatchNormalization(),\n",
    "  tf.keras.layers.Conv2D(256,(3,3),activation = 'relu',padding = 'same'),\n",
    "  tf.keras.layers.BatchNormalization(),\n",
    "  tf.keras.layers.MaxPooling2D((3,3),strides = 2),\n",
    "\n",
    "  tf.keras.layers.Flatten(),\n",
    "  tf.keras.layers.Dense(4096, activation='relu'),\n",
    "  tf.keras.layers.Dropout(0.25),\n",
    "  tf.keras.layers.Dense(4096, activation='relu'),\n",
    "  tf.keras.layers.Dropout(0.25),\n",
    "  tf.keras.layers.Dense(105, activation='softmax')\n",
    "])\n",
    "\n",
    "model.summary()"
   ]
  },
  {
   "cell_type": "markdown",
   "metadata": {
    "id": "zPi2SD4MRFYT"
   },
   "source": [
    "##Hyperparameter tuning of optimizer and model compilation"
   ]
  },
  {
   "cell_type": "code",
   "execution_count": 14,
   "metadata": {
    "id": "-dNI9TCmCgQx"
   },
   "outputs": [],
   "source": [
    "adam = tf.keras.optimizers.Adam(\n",
    "            learning_rate=0.0005, \n",
    "            beta_1=0.9, \n",
    "            beta_2=0.999, \n",
    "            epsilon=1e-07,\n",
    "            name='Adam'\n",
    ")\n",
    "def step_decay(epoch):\n",
    "    initial_lrate = 0.0005\n",
    "    drop = 0.9\n",
    "    epochs_drop = 1\n",
    "    lrate = initial_lrate * math.pow(drop, math.floor((1+epoch)/epochs_drop))\n",
    "    return lrate\n",
    "model.compile(loss='categorical_crossentropy',optimizer=adam,metrics=['accuracy'])\n",
    "checkpoint = ModelCheckpoint(\n",
    "                'model.h5',\n",
    "                monitor='val_acc',\n",
    "                verbose=0,\n",
    "                save_best_only=True,\n",
    "                mode='max'\n",
    "                )\n",
    "\n",
    "lrate = LearningRateScheduler(step_decay)"
   ]
  },
  {
   "cell_type": "markdown",
   "metadata": {
    "id": "OQUVRiwIROsU"
   },
   "source": [
    "##Training the model"
   ]
  },
  {
   "cell_type": "code",
   "execution_count": 15,
   "metadata": {
    "colab": {
     "base_uri": "https://localhost:8080/"
    },
    "id": "OhyP9yHeCjI_",
    "outputId": "e1db2c69-8658-4af7-b94f-c677155e75d5"
   },
   "outputs": [
    {
     "name": "stdout",
     "output_type": "stream",
     "text": [
      "Epoch 1/25\n",
      "117/117 [==============================] - ETA: 0s - loss: 5.9478 - accuracy: 0.1426WARNING:tensorflow:Can save best model only with val_acc available, skipping.\n",
      "117/117 [==============================] - 28s 124ms/step - loss: 5.9478 - accuracy: 0.1426 - val_loss: 7.8386 - val_accuracy: 0.0107 - lr: 4.5000e-04\n",
      "Epoch 2/25\n",
      "117/117 [==============================] - ETA: 0s - loss: 2.1541 - accuracy: 0.4502WARNING:tensorflow:Can save best model only with val_acc available, skipping.\n",
      "117/117 [==============================] - 12s 103ms/step - loss: 2.1541 - accuracy: 0.4502 - val_loss: 8.2340 - val_accuracy: 0.0011 - lr: 4.0500e-04\n",
      "Epoch 3/25\n",
      "117/117 [==============================] - ETA: 0s - loss: 1.4881 - accuracy: 0.5941WARNING:tensorflow:Can save best model only with val_acc available, skipping.\n",
      "117/117 [==============================] - 12s 105ms/step - loss: 1.4881 - accuracy: 0.5941 - val_loss: 11.5023 - val_accuracy: 0.0086 - lr: 3.6450e-04\n",
      "Epoch 4/25\n",
      "117/117 [==============================] - ETA: 0s - loss: 1.0633 - accuracy: 0.7010WARNING:tensorflow:Can save best model only with val_acc available, skipping.\n",
      "117/117 [==============================] - 13s 108ms/step - loss: 1.0633 - accuracy: 0.7010 - val_loss: 8.7543 - val_accuracy: 0.0332 - lr: 3.2805e-04\n",
      "Epoch 5/25\n",
      "117/117 [==============================] - ETA: 0s - loss: 0.8038 - accuracy: 0.7714WARNING:tensorflow:Can save best model only with val_acc available, skipping.\n",
      "117/117 [==============================] - 13s 108ms/step - loss: 0.8038 - accuracy: 0.7714 - val_loss: 2.1476 - val_accuracy: 0.5182 - lr: 2.9525e-04\n",
      "Epoch 6/25\n",
      "117/117 [==============================] - ETA: 0s - loss: 0.6586 - accuracy: 0.8017WARNING:tensorflow:Can save best model only with val_acc available, skipping.\n",
      "117/117 [==============================] - 13s 109ms/step - loss: 0.6586 - accuracy: 0.8017 - val_loss: 1.6842 - val_accuracy: 0.5921 - lr: 2.6572e-04\n",
      "Epoch 7/25\n",
      "117/117 [==============================] - ETA: 0s - loss: 0.4896 - accuracy: 0.8483WARNING:tensorflow:Can save best model only with val_acc available, skipping.\n",
      "117/117 [==============================] - 13s 108ms/step - loss: 0.4896 - accuracy: 0.8483 - val_loss: 1.0089 - val_accuracy: 0.7559 - lr: 2.3915e-04\n",
      "Epoch 8/25\n",
      "117/117 [==============================] - ETA: 0s - loss: 0.3179 - accuracy: 0.8987WARNING:tensorflow:Can save best model only with val_acc available, skipping.\n",
      "117/117 [==============================] - 12s 105ms/step - loss: 0.3179 - accuracy: 0.8987 - val_loss: 0.8249 - val_accuracy: 0.7891 - lr: 2.1523e-04\n",
      "Epoch 9/25\n",
      "117/117 [==============================] - ETA: 0s - loss: 0.2480 - accuracy: 0.9185WARNING:tensorflow:Can save best model only with val_acc available, skipping.\n",
      "117/117 [==============================] - 12s 103ms/step - loss: 0.2480 - accuracy: 0.9185 - val_loss: 1.1565 - val_accuracy: 0.7355 - lr: 1.9371e-04\n",
      "Epoch 10/25\n",
      "117/117 [==============================] - ETA: 0s - loss: 0.2094 - accuracy: 0.9295WARNING:tensorflow:Can save best model only with val_acc available, skipping.\n",
      "117/117 [==============================] - 12s 106ms/step - loss: 0.2094 - accuracy: 0.9295 - val_loss: 0.7428 - val_accuracy: 0.8180 - lr: 1.7434e-04\n",
      "Epoch 11/25\n",
      "117/117 [==============================] - ETA: 0s - loss: 0.1697 - accuracy: 0.9486WARNING:tensorflow:Can save best model only with val_acc available, skipping.\n",
      "117/117 [==============================] - 12s 103ms/step - loss: 0.1697 - accuracy: 0.9486 - val_loss: 0.6691 - val_accuracy: 0.8576 - lr: 1.5691e-04\n",
      "Epoch 12/25\n",
      "117/117 [==============================] - ETA: 0s - loss: 0.1122 - accuracy: 0.9638WARNING:tensorflow:Can save best model only with val_acc available, skipping.\n",
      "117/117 [==============================] - 12s 103ms/step - loss: 0.1122 - accuracy: 0.9638 - val_loss: 0.7164 - val_accuracy: 0.8394 - lr: 1.4121e-04\n",
      "Epoch 13/25\n",
      "117/117 [==============================] - ETA: 0s - loss: 0.0826 - accuracy: 0.9748WARNING:tensorflow:Can save best model only with val_acc available, skipping.\n",
      "117/117 [==============================] - 12s 103ms/step - loss: 0.0826 - accuracy: 0.9748 - val_loss: 0.6279 - val_accuracy: 0.8576 - lr: 1.2709e-04\n",
      "Epoch 14/25\n",
      "117/117 [==============================] - ETA: 0s - loss: 0.0631 - accuracy: 0.9831WARNING:tensorflow:Can save best model only with val_acc available, skipping.\n",
      "117/117 [==============================] - 12s 102ms/step - loss: 0.0631 - accuracy: 0.9831 - val_loss: 0.8462 - val_accuracy: 0.8266 - lr: 1.1438e-04\n",
      "Epoch 15/25\n",
      "117/117 [==============================] - ETA: 0s - loss: 0.0599 - accuracy: 0.9831WARNING:tensorflow:Can save best model only with val_acc available, skipping.\n",
      "117/117 [==============================] - 12s 107ms/step - loss: 0.0599 - accuracy: 0.9831 - val_loss: 0.6193 - val_accuracy: 0.8651 - lr: 1.0295e-04\n",
      "Epoch 16/25\n",
      "117/117 [==============================] - ETA: 0s - loss: 0.0572 - accuracy: 0.9847WARNING:tensorflow:Can save best model only with val_acc available, skipping.\n",
      "117/117 [==============================] - 12s 103ms/step - loss: 0.0572 - accuracy: 0.9847 - val_loss: 0.8663 - val_accuracy: 0.8330 - lr: 9.2651e-05\n",
      "Epoch 17/25\n",
      "117/117 [==============================] - ETA: 0s - loss: 0.0402 - accuracy: 0.9893WARNING:tensorflow:Can save best model only with val_acc available, skipping.\n",
      "117/117 [==============================] - 12s 102ms/step - loss: 0.0402 - accuracy: 0.9893 - val_loss: 0.6624 - val_accuracy: 0.8565 - lr: 8.3386e-05\n",
      "Epoch 18/25\n",
      "117/117 [==============================] - ETA: 0s - loss: 0.0263 - accuracy: 0.9938WARNING:tensorflow:Can save best model only with val_acc available, skipping.\n",
      "117/117 [==============================] - 12s 104ms/step - loss: 0.0263 - accuracy: 0.9938 - val_loss: 0.5652 - val_accuracy: 0.8779 - lr: 7.5047e-05\n",
      "Epoch 19/25\n",
      "117/117 [==============================] - ETA: 0s - loss: 0.0330 - accuracy: 0.9904WARNING:tensorflow:Can save best model only with val_acc available, skipping.\n",
      "117/117 [==============================] - 12s 104ms/step - loss: 0.0330 - accuracy: 0.9904 - val_loss: 0.6060 - val_accuracy: 0.8769 - lr: 6.7543e-05\n",
      "Epoch 20/25\n",
      "117/117 [==============================] - ETA: 0s - loss: 0.0260 - accuracy: 0.9944WARNING:tensorflow:Can save best model only with val_acc available, skipping.\n",
      "117/117 [==============================] - 12s 103ms/step - loss: 0.0260 - accuracy: 0.9944 - val_loss: 0.5837 - val_accuracy: 0.8801 - lr: 6.0788e-05\n",
      "Epoch 21/25\n",
      "117/117 [==============================] - ETA: 0s - loss: 0.0182 - accuracy: 0.9957WARNING:tensorflow:Can save best model only with val_acc available, skipping.\n",
      "117/117 [==============================] - 12s 104ms/step - loss: 0.0182 - accuracy: 0.9957 - val_loss: 0.5606 - val_accuracy: 0.8812 - lr: 5.4709e-05\n",
      "Epoch 22/25\n",
      "117/117 [==============================] - ETA: 0s - loss: 0.0197 - accuracy: 0.9962WARNING:tensorflow:Can save best model only with val_acc available, skipping.\n",
      "117/117 [==============================] - 12s 103ms/step - loss: 0.0197 - accuracy: 0.9962 - val_loss: 0.5550 - val_accuracy: 0.8844 - lr: 4.9239e-05\n",
      "Epoch 23/25\n",
      "117/117 [==============================] - ETA: 0s - loss: 0.0161 - accuracy: 0.9960WARNING:tensorflow:Can save best model only with val_acc available, skipping.\n",
      "117/117 [==============================] - 12s 107ms/step - loss: 0.0161 - accuracy: 0.9960 - val_loss: 0.5612 - val_accuracy: 0.8790 - lr: 4.4315e-05\n",
      "Epoch 24/25\n",
      "117/117 [==============================] - ETA: 0s - loss: 0.0135 - accuracy: 0.9965WARNING:tensorflow:Can save best model only with val_acc available, skipping.\n",
      "117/117 [==============================] - 12s 103ms/step - loss: 0.0135 - accuracy: 0.9965 - val_loss: 0.5497 - val_accuracy: 0.8897 - lr: 3.9883e-05\n",
      "Epoch 25/25\n",
      "117/117 [==============================] - ETA: 0s - loss: 0.0117 - accuracy: 0.9976WARNING:tensorflow:Can save best model only with val_acc available, skipping.\n",
      "117/117 [==============================] - 12s 103ms/step - loss: 0.0117 - accuracy: 0.9976 - val_loss: 0.5786 - val_accuracy: 0.8822 - lr: 3.5895e-05\n"
     ]
    }
   ],
   "source": [
    "## Fitting the model\n",
    "history = model.fit(X_train, y_train, batch_size = 32, epochs = 25, validation_data=(X_test, y_test), callbacks=[checkpoint, lrate])"
   ]
  },
  {
   "cell_type": "markdown",
   "metadata": {
    "id": "S7Y4UpDTRSHG"
   },
   "source": [
    "##Saving the model"
   ]
  },
  {
   "cell_type": "code",
   "execution_count": 16,
   "metadata": {
    "id": "RTrhSx4CCmh-"
   },
   "outputs": [],
   "source": [
    "model.save('my_2D_GrayScale_AlexNet_h5_model.h5')"
   ]
  },
  {
   "cell_type": "markdown",
   "metadata": {
    "id": "7dIlsGCeRU6e"
   },
   "source": [
    "##Plot the training and validation accuracy and loss at each epoch"
   ]
  },
  {
   "cell_type": "code",
   "execution_count": 17,
   "metadata": {
    "colab": {
     "base_uri": "https://localhost:8080/",
     "height": 573
    },
    "id": "np7QPBpdCxNa",
    "outputId": "1e81f9b6-7dd8-4c4b-bb28-ae9ac3ed189a"
   },
   "outputs": [
    {
     "data": {
      "image/png": "[encoded data removed]",
      "text/plain": [
       "<Figure size 432x288 with 1 Axes>"
      ]
     },
     "metadata": {
      "needs_background": "light"
     },
     "output_type": "display_data"
    },
    {
     "data": {
      "image/png": "[encoded data removed]",
      "text/plain": [
       "<Figure size 432x288 with 1 Axes>"
      ]
     },
     "metadata": {
      "needs_background": "light"
     },
     "output_type": "display_data"
    }
   ],
   "source": [
    "loss = history.history['loss']\n",
    "val_loss = history.history['val_loss']\n",
    "epochs = range(1, len(loss) + 1)\n",
    "plt.plot(epochs, loss, 'y', label='Training loss')\n",
    "plt.plot(epochs, val_loss, 'r', label='Validation loss')\n",
    "plt.title('Training and validation loss')\n",
    "plt.xlabel('Epochs')\n",
    "plt.ylabel('Loss')\n",
    "plt.legend()\n",
    "plt.show()\n",
    "\n",
    "\n",
    "acc = history.history['accuracy']\n",
    "val_acc = history.history['val_accuracy']\n",
    "plt.plot(epochs, acc, 'y', label='Training acc')\n",
    "plt.plot(epochs, val_acc, 'r', label='Validation acc')\n",
    "plt.title('Training and validation accuracy')\n",
    "plt.xlabel('Epochs')\n",
    "plt.ylabel('Accuracy')\n",
    "plt.legend()\n",
    "plt.show()"
   ]
  },
  {
   "cell_type": "markdown",
   "metadata": {
    "id": "2LmCnHr4RZTq"
   },
   "source": [
    "##Getting the predictions"
   ]
  },
  {
   "cell_type": "code",
   "execution_count": 18,
   "metadata": {
    "colab": {
     "base_uri": "https://localhost:8080/"
    },
    "id": "1FwT7IYFCzsU",
    "outputId": "d5056e29-4583-4bd4-c200-d8be84667daf"
   },
   "outputs": [
    {
     "data": {
      "text/plain": [
       "array([[5.8406516e-16, 3.3004291e-17, 3.5518267e-18, ..., 3.0452617e-14,\n",
       "        8.8203485e-18, 1.6651286e-16],\n",
       "       [3.7552338e-04, 5.7960860e-06, 1.9199646e-09, ..., 1.3944023e-08,\n",
       "        1.1780090e-08, 2.8435349e-07],\n",
       "       [1.6851909e-04, 9.3934643e-05, 3.0526897e-09, ..., 1.7690889e-08,\n",
       "        1.1053732e-08, 2.8210870e-08],\n",
       "       ...,\n",
       "       [8.2905484e-15, 1.3081844e-12, 1.0798050e-11, ..., 1.0678473e-12,\n",
       "        2.3083339e-13, 1.0681728e-13],\n",
       "       [1.6982653e-09, 1.7684445e-09, 2.4260649e-08, ..., 1.2140950e-07,\n",
       "        1.6506753e-08, 1.2742336e-06],\n",
       "       [1.0727731e-16, 1.4418757e-13, 8.3692959e-13, ..., 5.3336225e-14,\n",
       "        1.4661360e-13, 9.3826624e-10]], dtype=float32)"
      ]
     },
     "execution_count": 18,
     "metadata": {},
     "output_type": "execute_result"
    }
   ],
   "source": [
    "predictions = model.predict(X_test)\n",
    "predictions"
   ]
  },
  {
   "cell_type": "code",
   "execution_count": 19,
   "metadata": {
    "id": "rSEc82frC1n8"
   },
   "outputs": [],
   "source": [
    "# select the index with the maximum probability\n",
    "predictions = np.argmax(predictions,axis = 1)\n",
    "\n",
    "predictions = pd.Series(predictions,name=\"Label\")"
   ]
  },
  {
   "cell_type": "code",
   "execution_count": 20,
   "metadata": {
    "colab": {
     "base_uri": "https://localhost:8080/"
    },
    "id": "m_MQQYRwC3lh",
    "outputId": "8d991cf8-4a82-407e-959c-b6bcc34244a5"
   },
   "outputs": [
    {
     "data": {
      "text/plain": [
       "0    42\n",
       "1    48\n",
       "2    62\n",
       "3    25\n",
       "4    80\n",
       "Name: Label, dtype: int64"
      ]
     },
     "execution_count": 20,
     "metadata": {},
     "output_type": "execute_result"
    }
   ],
   "source": [
    "predictions.head()"
   ]
  },
  {
   "cell_type": "code",
   "execution_count": 21,
   "metadata": {
    "colab": {
     "base_uri": "https://localhost:8080/"
    },
    "id": "AYHRFYX7C6Dv",
    "outputId": "6d732379-0a0f-4c40-e55e-2ace1d774786"
   },
   "outputs": [
    {
     "data": {
      "text/plain": [
       "array([[0., 0., 0., ..., 0., 0., 0.],\n",
       "       [0., 0., 0., ..., 0., 0., 0.],\n",
       "       [0., 0., 0., ..., 0., 0., 0.],\n",
       "       ...,\n",
       "       [0., 0., 0., ..., 0., 0., 0.],\n",
       "       [0., 0., 0., ..., 0., 0., 0.],\n",
       "       [0., 0., 0., ..., 0., 0., 0.]], dtype=float32)"
      ]
     },
     "execution_count": 21,
     "metadata": {},
     "output_type": "execute_result"
    }
   ],
   "source": [
    "y_test"
   ]
  },
  {
   "cell_type": "code",
   "execution_count": 22,
   "metadata": {
    "id": "9l-eqAJXC640"
   },
   "outputs": [],
   "source": [
    "y_test1 = y_test"
   ]
  },
  {
   "cell_type": "code",
   "execution_count": 23,
   "metadata": {
    "id": "bswlKmDUC9Rh"
   },
   "outputs": [],
   "source": [
    "#Converting OneHotEncoded Values to Labels\n",
    "y_test1 = pd.Series(np.argmax(y_test1, axis=1))"
   ]
  },
  {
   "cell_type": "markdown",
   "metadata": {
    "id": "8PsXigXuRe9S"
   },
   "source": [
    "##Generating the Confusion Matrix and Classification Report"
   ]
  },
  {
   "cell_type": "code",
   "execution_count": 24,
   "metadata": {
    "colab": {
     "base_uri": "https://localhost:8080/"
    },
    "id": "8D8xkll2C_cd",
    "outputId": "76e4ca64-7239-473c-b109-2d53f79cf065"
   },
   "outputs": [
    {
     "name": "stdout",
     "output_type": "stream",
     "text": [
      "[[100.    0.    0.  ...   0.    0.    0. ]\n",
      " [  0.   90.9   0.  ...   0.    0.    0. ]\n",
      " [  0.    0.   83.3 ...   0.    0.    0. ]\n",
      " ...\n",
      " [  0.    0.    0.  ... 100.    0.    0. ]\n",
      " [  0.    0.    0.  ...   0.  100.    0. ]\n",
      " [  0.    0.    0.  ...   0.    0.   93.3]]\n"
     ]
    }
   ],
   "source": [
    "from sklearn.metrics import classification_report,confusion_matrix\n",
    "cm = confusion_matrix(y_test1,predictions)\n",
    "print(np.around(cm/cm.sum(axis=1, keepdims=True)*100,1))"
   ]
  },
  {
   "cell_type": "code",
   "execution_count": 25,
   "metadata": {
    "colab": {
     "base_uri": "https://localhost:8080/"
    },
    "id": "58X4CdQtDBEZ",
    "outputId": "86badae3-df50-4bf0-b136-53664994396e"
   },
   "outputs": [
    {
     "name": "stdout",
     "output_type": "stream",
     "text": [
      "              precision    recall  f1-score   support\n",
      "\n",
      "           0       1.00      1.00      1.00        12\n",
      "           1       1.00      0.91      0.95        11\n",
      "           2       1.00      0.83      0.91        12\n",
      "           3       0.50      0.67      0.57         3\n",
      "           4       0.83      1.00      0.91        10\n",
      "           5       0.82      1.00      0.90         9\n",
      "           6       1.00      0.89      0.94         9\n",
      "           7       0.82      0.90      0.86        10\n",
      "           8       0.93      0.93      0.93        14\n",
      "           9       1.00      0.91      0.95        11\n",
      "          10       0.82      0.82      0.82        11\n",
      "          11       1.00      0.75      0.86        12\n",
      "          12       0.89      1.00      0.94         8\n",
      "          13       0.88      0.78      0.82         9\n",
      "          14       0.82      1.00      0.90         9\n",
      "          15       0.91      0.83      0.87        12\n",
      "          16       0.78      0.88      0.82         8\n",
      "          17       1.00      0.88      0.93        16\n",
      "          18       0.90      1.00      0.95         9\n",
      "          19       0.64      0.88      0.74         8\n",
      "          20       1.00      0.78      0.88         9\n",
      "          21       0.86      0.75      0.80         8\n",
      "          22       1.00      0.86      0.92        14\n",
      "          23       0.83      1.00      0.91         5\n",
      "          24       0.86      1.00      0.92         6\n",
      "          25       0.83      1.00      0.91        10\n",
      "          26       0.91      0.91      0.91        11\n",
      "          27       1.00      0.75      0.86         8\n",
      "          28       0.78      1.00      0.88         7\n",
      "          29       1.00      0.93      0.97        15\n",
      "          30       0.92      1.00      0.96        11\n",
      "          31       0.71      0.83      0.77         6\n",
      "          32       1.00      0.80      0.89        10\n",
      "          33       1.00      0.76      0.87        17\n",
      "          34       0.92      1.00      0.96        11\n",
      "          35       1.00      1.00      1.00         8\n",
      "          36       1.00      1.00      1.00        12\n",
      "          37       0.90      0.90      0.90        10\n",
      "          38       1.00      0.86      0.92         7\n",
      "          39       1.00      0.75      0.86         8\n",
      "          40       0.75      0.86      0.80         7\n",
      "          41       0.84      0.94      0.89        17\n",
      "          42       1.00      1.00      1.00         5\n",
      "          43       0.92      0.85      0.88        13\n",
      "          44       0.92      0.92      0.92        12\n",
      "          45       0.81      1.00      0.90        13\n",
      "          46       1.00      0.75      0.86         8\n",
      "          47       1.00      0.67      0.80         6\n",
      "          48       0.67      1.00      0.80         4\n",
      "          49       0.33      0.50      0.40         2\n",
      "          50       0.57      0.80      0.67         5\n",
      "          51       0.67      0.86      0.75         7\n",
      "          52       1.00      0.50      0.67         8\n",
      "          53       1.00      0.56      0.71         9\n",
      "          54       1.00      0.67      0.80         3\n",
      "          55       0.75      0.75      0.75         4\n",
      "          56       0.80      1.00      0.89         4\n",
      "          57       0.57      1.00      0.73         4\n",
      "          58       1.00      0.77      0.87        13\n",
      "          59       1.00      0.33      0.50         3\n",
      "          60       0.80      0.57      0.67         7\n",
      "          61       1.00      0.88      0.93         8\n",
      "          62       0.67      0.80      0.73         5\n",
      "          63       0.50      0.25      0.33         4\n",
      "          64       0.11      0.50      0.18         2\n",
      "          65       0.90      1.00      0.95         9\n",
      "          66       1.00      0.50      0.67         6\n",
      "          67       0.25      0.50      0.33         2\n",
      "          68       0.67      0.67      0.67         3\n",
      "          69       1.00      0.67      0.80         9\n",
      "          70       0.67      0.80      0.73         5\n",
      "          71       0.89      1.00      0.94         8\n",
      "          72       0.89      1.00      0.94         8\n",
      "          73       1.00      0.86      0.92         7\n",
      "          74       0.70      0.88      0.78         8\n",
      "          75       0.88      0.88      0.88         8\n",
      "          76       1.00      0.80      0.89         5\n",
      "          77       1.00      0.50      0.67         6\n",
      "          78       0.62      1.00      0.76         8\n",
      "          79       1.00      1.00      1.00         6\n",
      "          80       0.80      1.00      0.89         8\n",
      "          81       1.00      0.89      0.94         9\n",
      "          82       0.89      0.89      0.89         9\n",
      "          83       1.00      1.00      1.00         9\n",
      "          84       0.83      0.71      0.77         7\n",
      "          85       1.00      0.85      0.92        13\n",
      "          86       1.00      1.00      1.00        12\n",
      "          87       0.73      0.80      0.76        10\n",
      "          88       0.83      1.00      0.91        10\n",
      "          89       1.00      1.00      1.00         6\n",
      "          90       1.00      0.88      0.93        16\n",
      "          91       1.00      0.93      0.96        14\n",
      "          92       0.92      0.92      0.92        12\n",
      "          93       1.00      1.00      1.00         8\n",
      "          94       0.92      1.00      0.96        12\n",
      "          95       0.92      0.86      0.89        14\n",
      "          96       0.82      1.00      0.90         9\n",
      "          97       1.00      1.00      1.00         8\n",
      "          98       0.89      1.00      0.94         8\n",
      "          99       0.87      1.00      0.93        13\n",
      "         100       1.00      1.00      1.00        11\n",
      "         101       1.00      0.89      0.94         9\n",
      "         102       1.00      1.00      1.00        13\n",
      "         103       0.86      1.00      0.92        12\n",
      "         104       1.00      0.93      0.97        15\n",
      "\n",
      "    accuracy                           0.88       934\n",
      "   macro avg       0.87      0.86      0.85       934\n",
      "weighted avg       0.91      0.88      0.88       934\n",
      "\n"
     ]
    }
   ],
   "source": [
    "print(classification_report(y_test1, predictions))"
   ]
  }
 ],
 "metadata": {
  "accelerator": "GPU",
  "colab": {
   "include_colab_link": true,
   "name": "BosPNG_2D_GrayScale_ModifiedAlexNet.ipynb",
   "provenance": []
  },
  "kernelspec": {
   "display_name": "Python 3 (ipykernel)",
   "language": "python",
   "name": "python3"
  },
  "language_info": {
   "codemirror_mode": {
    "name": "ipython",
    "version": 3
   },
   "file_extension": ".py",
   "mimetype": "text/x-python",
   "name": "python",
   "nbconvert_exporter": "python",
   "pygments_lexer": "ipython3",
   "version": "3.10.1"
  }
 },
 "nbformat": 4,
 "nbformat_minor": 1
}
